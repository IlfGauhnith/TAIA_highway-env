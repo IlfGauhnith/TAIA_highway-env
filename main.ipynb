{
 "cells": [
  {
   "cell_type": "markdown",
   "metadata": {},
   "source": [
    "# SETUP"
   ]
  },
  {
   "cell_type": "code",
   "execution_count": 16,
   "metadata": {},
   "outputs": [
    {
     "name": "stdout",
     "output_type": "stream",
     "text": [
      "Requirement already satisfied: pygame==2.5.1 in c:\\users\\lucas\\bcc\\highway-env\\.venv\\lib\\site-packages (from -r requirements.txt (line 1)) (2.5.1)Note: you may need to restart the kernel to use updated packages.\n"
     ]
    },
    {
     "name": "stderr",
     "output_type": "stream",
     "text": [
      "ERROR: Could not find a version that satisfies the requirement train_metrics (from versions: none)\n",
      "ERROR: No matching distribution found for train_metrics\n"
     ]
    },
    {
     "name": "stdout",
     "output_type": "stream",
     "text": [
      "\n",
      "Requirement already satisfied: highway-env in c:\\users\\lucas\\bcc\\highway-env\\.venv\\lib\\site-packages (from -r requirements.txt (line 2)) (1.8.2)\n",
      "Requirement already satisfied: opencv-python in c:\\users\\lucas\\bcc\\highway-env\\.venv\\lib\\site-packages (from -r requirements.txt (line 3)) (4.8.0.76)\n",
      "Requirement already satisfied: moviepy in c:\\users\\lucas\\bcc\\highway-env\\.venv\\lib\\site-packages (from -r requirements.txt (line 4)) (1.0.3)\n",
      "Requirement already satisfied: stable_baselines3 in c:\\users\\lucas\\bcc\\highway-env\\.venv\\lib\\site-packages (from -r requirements.txt (line 5)) (2.1.0)\n"
     ]
    }
   ],
   "source": [
    "%pip install -r requirements.txt"
   ]
  },
  {
   "cell_type": "code",
   "execution_count": 19,
   "metadata": {},
   "outputs": [],
   "source": [
    "import gymnasium as gym\n",
    "from gymnasium.wrappers import RecordVideo\n",
    "\n",
    "from stable_baselines3 import DQN\n",
    "from stable_baselines3.common.callbacks import CheckpointCallback, EveryNTimesteps\n",
    "\n",
    "\n",
    "import pygame\n",
    "from matplotlib import pyplot as plt\n",
    "%matplotlib inline"
   ]
  },
  {
   "cell_type": "markdown",
   "metadata": {},
   "source": [
    "# The Environment"
   ]
  },
  {
   "cell_type": "markdown",
   "metadata": {},
   "source": [
    "## Setting"
   ]
  },
  {
   "cell_type": "code",
   "execution_count": null,
   "metadata": {},
   "outputs": [
    {
     "name": "stderr",
     "output_type": "stream",
     "text": [
      "c:\\Users\\lucas\\BCC\\highway-env\\.venv\\lib\\site-packages\\gymnasium\\wrappers\\record_video.py:94: UserWarning: \u001b[33mWARN: Overwriting existing videos at c:\\Users\\lucas\\BCC\\highway-env\\output\\video folder (try specifying a different `video_folder` for the `RecordVideo` wrapper if this is not desired)\u001b[0m\n",
      "  logger.warn(\n"
     ]
    }
   ],
   "source": [
    "env = gym.make('highway-v0', render_mode=\"rgb_array\")\n",
    "\n",
    "env = RecordVideo(env=env, video_folder=\"./output/video\",\n",
    "                  name_prefix=\"test\", \n",
    "                  episode_trigger=lambda e: e % 10 == 0)\n",
    "env.unwrapped.set_record_video_wrapper(env)\n",
    "\n",
    "\n",
    "# Observation space as grayscale images without stacking and with (128, 64) shape.\n",
    "# \n",
    "config = {\n",
    "    \"observation\": {\n",
    "        \"type\": \"GrayscaleObservation\",\n",
    "        \"observation_shape\": (128, 64),\n",
    "        \"stack_size\": 1,\n",
    "        \"weights\": [0.2989, 0.5870, 0.1140],  # weights for RGB conversion\n",
    "        \"scaling\": 1.75,\n",
    "    },\n",
    "    \"action\": {\n",
    "        \"type\": \"DiscreteAction\"\n",
    "    },\n",
    "    \"policy_frequency\": 2\n",
    "}\n",
    "env.unwrapped.configure(config)"
   ]
  },
  {
   "cell_type": "markdown",
   "metadata": {},
   "source": [
    "## Observations and actions"
   ]
  },
  {
   "cell_type": "code",
   "execution_count": null,
   "metadata": {},
   "outputs": [
    {
     "data": {
      "image/png": "[encoded data removed]",
      "text/plain": [
       "<Figure size 640x480 with 1 Axes>"
      ]
     },
     "metadata": {},
     "output_type": "display_data"
    },
    {
     "name": "stdout",
     "output_type": "stream",
     "text": [
      "action_space -> Discrete(9)\n",
      "observation_space -> Box(0, 255, (1, 128, 64), uint8)\n"
     ]
    }
   ],
   "source": [
    "obs, info = env.reset()\n",
    "plt.imshow(obs[0], cmap=\"gray\")\n",
    "plt.show()\n",
    "\n",
    "print(\"action_space -> \" + str(env.action_space))\n",
    "print(\"observation_space -> \" + str(env.observation_space))"
   ]
  },
  {
   "cell_type": "markdown",
   "metadata": {},
   "source": [
    "# DQN Training"
   ]
  },
  {
   "cell_type": "code",
   "execution_count": 21,
   "metadata": {},
   "outputs": [
    {
     "name": "stdout",
     "output_type": "stream",
     "text": [
      "Using cpu device\n",
      "Wrapping the env with a `Monitor` wrapper\n",
      "Wrapping the env in a DummyVecEnv.\n",
      "Moviepy - Building video c:\\Users\\lucas\\BCC\\highway-env\\output\\video\\test-episode-0.mp4.\n",
      "Moviepy - Writing video c:\\Users\\lucas\\BCC\\highway-env\\output\\video\\test-episode-0.mp4\n",
      "\n"
     ]
    },
    {
     "name": "stderr",
     "output_type": "stream",
     "text": [
      "c:\\Users\\lucas\\BCC\\highway-env\\.venv\\lib\\site-packages\\gymnasium\\wrappers\\monitoring\\video_recorder.py:121: UserWarning: \u001b[33mWARN: The video recorder has been closed and no frames will be captured anymore.\u001b[0m\n",
      "  logger.warn(\n"
     ]
    },
    {
     "name": "stdout",
     "output_type": "stream",
     "text": [
      "Moviepy - Done !\n",
      "Moviepy - video ready c:\\Users\\lucas\\BCC\\highway-env\\output\\video\\test-episode-0.mp4\n",
      "----------------------------------\n",
      "| rollout/            |          |\n",
      "|    ep_len_mean      | 80       |\n",
      "|    ep_rew_mean      | 5.3      |\n",
      "|    exploration_rate | 0.05     |\n",
      "| time/               |          |\n",
      "|    episodes         | 4        |\n",
      "|    fps              | 7        |\n",
      "|    time_elapsed     | 41       |\n",
      "|    total_timesteps  | 320      |\n",
      "----------------------------------\n",
      "----------------------------------\n",
      "| rollout/            |          |\n",
      "|    ep_len_mean      | 80       |\n",
      "|    ep_rew_mean      | 5.49     |\n",
      "|    exploration_rate | 0.05     |\n",
      "| time/               |          |\n",
      "|    episodes         | 8        |\n",
      "|    fps              | 7        |\n",
      "|    time_elapsed     | 81       |\n",
      "|    total_timesteps  | 640      |\n",
      "----------------------------------\n",
      "Moviepy - Building video c:\\Users\\lucas\\BCC\\highway-env\\output\\video\\test-episode-10.mp4.\n",
      "Moviepy - Writing video c:\\Users\\lucas\\BCC\\highway-env\\output\\video\\test-episode-10.mp4\n",
      "\n"
     ]
    },
    {
     "name": "stderr",
     "output_type": "stream",
     "text": [
      "                                                               \r"
     ]
    },
    {
     "name": "stdout",
     "output_type": "stream",
     "text": [
      "Moviepy - Done !\n",
      "Moviepy - video ready c:\\Users\\lucas\\BCC\\highway-env\\output\\video\\test-episode-10.mp4\n",
      "----------------------------------\n",
      "| rollout/            |          |\n",
      "|    ep_len_mean      | 80       |\n",
      "|    ep_rew_mean      | 6.85     |\n",
      "|    exploration_rate | 0.05     |\n",
      "| time/               |          |\n",
      "|    episodes         | 12       |\n",
      "|    fps              | 7        |\n",
      "|    time_elapsed     | 123      |\n",
      "|    total_timesteps  | 960      |\n",
      "----------------------------------\n",
      "----------------------------------\n",
      "| rollout/            |          |\n",
      "|    ep_len_mean      | 80       |\n",
      "|    ep_rew_mean      | 7.61     |\n",
      "|    exploration_rate | 0.05     |\n",
      "| time/               |          |\n",
      "|    episodes         | 16       |\n",
      "|    fps              | 7        |\n",
      "|    time_elapsed     | 162      |\n",
      "|    total_timesteps  | 1280     |\n",
      "----------------------------------\n",
      "----------------------------------\n",
      "| rollout/            |          |\n",
      "|    ep_len_mean      | 80       |\n",
      "|    ep_rew_mean      | 7.21     |\n",
      "|    exploration_rate | 0.05     |\n",
      "| time/               |          |\n",
      "|    episodes         | 20       |\n",
      "|    fps              | 7        |\n",
      "|    time_elapsed     | 202      |\n",
      "|    total_timesteps  | 1600     |\n",
      "----------------------------------\n",
      "Moviepy - Building video c:\\Users\\lucas\\BCC\\highway-env\\output\\video\\test-episode-20.mp4.\n",
      "Moviepy - Writing video c:\\Users\\lucas\\BCC\\highway-env\\output\\video\\test-episode-20.mp4\n",
      "\n"
     ]
    },
    {
     "name": "stderr",
     "output_type": "stream",
     "text": [
      "                                                               \r"
     ]
    },
    {
     "name": "stdout",
     "output_type": "stream",
     "text": [
      "Moviepy - Done !\n",
      "Moviepy - video ready c:\\Users\\lucas\\BCC\\highway-env\\output\\video\\test-episode-20.mp4\n",
      "----------------------------------\n",
      "| rollout/            |          |\n",
      "|    ep_len_mean      | 80       |\n",
      "|    ep_rew_mean      | 7.35     |\n",
      "|    exploration_rate | 0.05     |\n",
      "| time/               |          |\n",
      "|    episodes         | 24       |\n",
      "|    fps              | 7        |\n",
      "|    time_elapsed     | 244      |\n",
      "|    total_timesteps  | 1920     |\n",
      "----------------------------------\n",
      "----------------------------------\n",
      "| rollout/            |          |\n",
      "|    ep_len_mean      | 80       |\n",
      "|    ep_rew_mean      | 7.73     |\n",
      "|    exploration_rate | 0.05     |\n",
      "| time/               |          |\n",
      "|    episodes         | 28       |\n",
      "|    fps              | 7        |\n",
      "|    time_elapsed     | 283      |\n",
      "|    total_timesteps  | 2240     |\n",
      "----------------------------------\n",
      "Moviepy - Building video c:\\Users\\lucas\\BCC\\highway-env\\output\\video\\test-episode-30.mp4.\n",
      "Moviepy - Writing video c:\\Users\\lucas\\BCC\\highway-env\\output\\video\\test-episode-30.mp4\n",
      "\n"
     ]
    },
    {
     "name": "stderr",
     "output_type": "stream",
     "text": [
      "                                                               \r"
     ]
    },
    {
     "name": "stdout",
     "output_type": "stream",
     "text": [
      "Moviepy - Done !\n",
      "Moviepy - video ready c:\\Users\\lucas\\BCC\\highway-env\\output\\video\\test-episode-30.mp4\n",
      "----------------------------------\n",
      "| rollout/            |          |\n",
      "|    ep_len_mean      | 80       |\n",
      "|    ep_rew_mean      | 7.62     |\n",
      "|    exploration_rate | 0.05     |\n",
      "| time/               |          |\n",
      "|    episodes         | 32       |\n",
      "|    fps              | 7        |\n",
      "|    time_elapsed     | 325      |\n",
      "|    total_timesteps  | 2560     |\n",
      "----------------------------------\n",
      "----------------------------------\n",
      "| rollout/            |          |\n",
      "|    ep_len_mean      | 80       |\n",
      "|    ep_rew_mean      | 8.04     |\n",
      "|    exploration_rate | 0.05     |\n",
      "| time/               |          |\n",
      "|    episodes         | 36       |\n",
      "|    fps              | 7        |\n",
      "|    time_elapsed     | 365      |\n",
      "|    total_timesteps  | 2880     |\n",
      "----------------------------------\n"
     ]
    }
   ],
   "source": [
    "model = DQN(\"CnnPolicy\",\n",
    "            env,\n",
    "            buffer_size=50000,\n",
    "            verbose=1)\n",
    "\n",
    "checkpoint_callback = CheckpointCallback(save_freq=1000, save_path='./models/logs/', name_prefix='dqn')   \n",
    "model = model.learn(total_timesteps=(3000), log_interval=4, callback=checkpoint_callback)"
   ]
  }
 ],
 "metadata": {
  "kernelspec": {
   "display_name": "Python 3",
   "language": "python",
   "name": "python3"
  },
  "language_info": {
   "codemirror_mode": {
    "name": "ipython",
    "version": 3
   },
   "file_extension": ".py",
   "mimetype": "text/x-python",
   "name": "python",
   "nbconvert_exporter": "python",
   "pygments_lexer": "ipython3",
   "version": "3.9.13"
  },
  "orig_nbformat": 4
 },
 "nbformat": 4,
 "nbformat_minor": 2
}
