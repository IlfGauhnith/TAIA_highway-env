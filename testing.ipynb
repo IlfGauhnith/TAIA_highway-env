{
 "cells": [
  {
   "cell_type": "code",
   "execution_count": 6,
   "metadata": {},
   "outputs": [],
   "source": [
    "from util import defaultEnvironment\n",
    "from stable_baselines3 import DQN, PPO"
   ]
  },
  {
   "cell_type": "markdown",
   "metadata": {},
   "source": [
    "# DQN"
   ]
  },
  {
   "cell_type": "code",
   "execution_count": 9,
   "metadata": {},
   "outputs": [
    {
     "name": "stderr",
     "output_type": "stream",
     "text": [
      "c:\\Users\\lucas\\BCC\\highway-env\\.venv\\lib\\site-packages\\gymnasium\\wrappers\\record_video.py:94: UserWarning: \u001b[33mWARN: Overwriting existing videos at c:\\Users\\lucas\\BCC\\highway-env\\output\\testing\\dqn folder (try specifying a different `video_folder` for the `RecordVideo` wrapper if this is not desired)\u001b[0m\n",
      "  logger.warn(\n"
     ]
    }
   ],
   "source": [
    "env = defaultEnvironment(\"./output/testing/dqn\", \"dqn\", video_episode_trigger=lambda e: True)\n",
    "obs, info = env.reset()"
   ]
  },
  {
   "cell_type": "code",
   "execution_count": 10,
   "metadata": {},
   "outputs": [
    {
     "name": "stdout",
     "output_type": "stream",
     "text": [
      "Moviepy - Building video c:\\Users\\lucas\\BCC\\highway-env\\output\\testing\\dqn\\dqn-episode-0.mp4.\n",
      "Moviepy - Writing video c:\\Users\\lucas\\BCC\\highway-env\\output\\testing\\dqn\\dqn-episode-0.mp4\n",
      "\n"
     ]
    },
    {
     "name": "stderr",
     "output_type": "stream",
     "text": [
      "                                                             "
     ]
    },
    {
     "name": "stdout",
     "output_type": "stream",
     "text": [
      "Moviepy - Done !\n",
      "Moviepy - video ready c:\\Users\\lucas\\BCC\\highway-env\\output\\testing\\dqn\\dqn-episode-0.mp4\n"
     ]
    },
    {
     "name": "stderr",
     "output_type": "stream",
     "text": [
      "\r"
     ]
    },
    {
     "name": "stdout",
     "output_type": "stream",
     "text": [
      "Moviepy - Building video c:\\Users\\lucas\\BCC\\highway-env\\output\\testing\\dqn\\dqn-episode-1.mp4.\n",
      "Moviepy - Writing video c:\\Users\\lucas\\BCC\\highway-env\\output\\testing\\dqn\\dqn-episode-1.mp4\n",
      "\n"
     ]
    },
    {
     "name": "stderr",
     "output_type": "stream",
     "text": [
      "                                                              \r"
     ]
    },
    {
     "name": "stdout",
     "output_type": "stream",
     "text": [
      "Moviepy - Done !\n",
      "Moviepy - video ready c:\\Users\\lucas\\BCC\\highway-env\\output\\testing\\dqn\\dqn-episode-1.mp4\n",
      "Moviepy - Building video c:\\Users\\lucas\\BCC\\highway-env\\output\\testing\\dqn\\dqn-episode-2.mp4.\n",
      "Moviepy - Writing video c:\\Users\\lucas\\BCC\\highway-env\\output\\testing\\dqn\\dqn-episode-2.mp4\n",
      "\n"
     ]
    },
    {
     "name": "stderr",
     "output_type": "stream",
     "text": [
      "                                                             "
     ]
    },
    {
     "name": "stdout",
     "output_type": "stream",
     "text": [
      "Moviepy - Done !\n",
      "Moviepy - video ready c:\\Users\\lucas\\BCC\\highway-env\\output\\testing\\dqn\\dqn-episode-2.mp4\n"
     ]
    },
    {
     "name": "stderr",
     "output_type": "stream",
     "text": [
      "\r"
     ]
    },
    {
     "name": "stdout",
     "output_type": "stream",
     "text": [
      "Moviepy - Building video c:\\Users\\lucas\\BCC\\highway-env\\output\\testing\\dqn\\dqn-episode-3.mp4.\n",
      "Moviepy - Writing video c:\\Users\\lucas\\BCC\\highway-env\\output\\testing\\dqn\\dqn-episode-3.mp4\n",
      "\n"
     ]
    },
    {
     "name": "stderr",
     "output_type": "stream",
     "text": [
      "                                                   "
     ]
    },
    {
     "name": "stdout",
     "output_type": "stream",
     "text": [
      "Moviepy - Done !\n",
      "Moviepy - video ready c:\\Users\\lucas\\BCC\\highway-env\\output\\testing\\dqn\\dqn-episode-3.mp4\n"
     ]
    },
    {
     "name": "stderr",
     "output_type": "stream",
     "text": [
      "\r"
     ]
    },
    {
     "name": "stdout",
     "output_type": "stream",
     "text": [
      "Moviepy - Building video c:\\Users\\lucas\\BCC\\highway-env\\output\\testing\\dqn\\dqn-episode-4.mp4.\n",
      "Moviepy - Writing video c:\\Users\\lucas\\BCC\\highway-env\\output\\testing\\dqn\\dqn-episode-4.mp4\n",
      "\n"
     ]
    },
    {
     "name": "stderr",
     "output_type": "stream",
     "text": [
      "                                                   "
     ]
    },
    {
     "name": "stdout",
     "output_type": "stream",
     "text": [
      "Moviepy - Done !\n",
      "Moviepy - video ready c:\\Users\\lucas\\BCC\\highway-env\\output\\testing\\dqn\\dqn-episode-4.mp4\n"
     ]
    },
    {
     "name": "stderr",
     "output_type": "stream",
     "text": [
      "\r"
     ]
    },
    {
     "name": "stdout",
     "output_type": "stream",
     "text": [
      "Moviepy - Building video c:\\Users\\lucas\\BCC\\highway-env\\output\\testing\\dqn\\dqn-episode-5.mp4.\n",
      "Moviepy - Writing video c:\\Users\\lucas\\BCC\\highway-env\\output\\testing\\dqn\\dqn-episode-5.mp4\n",
      "\n"
     ]
    },
    {
     "name": "stderr",
     "output_type": "stream",
     "text": [
      "                                                              \r"
     ]
    },
    {
     "name": "stdout",
     "output_type": "stream",
     "text": [
      "Moviepy - Done !\n",
      "Moviepy - video ready c:\\Users\\lucas\\BCC\\highway-env\\output\\testing\\dqn\\dqn-episode-5.mp4\n",
      "Moviepy - Building video c:\\Users\\lucas\\BCC\\highway-env\\output\\testing\\dqn\\dqn-episode-6.mp4.\n",
      "Moviepy - Writing video c:\\Users\\lucas\\BCC\\highway-env\\output\\testing\\dqn\\dqn-episode-6.mp4\n",
      "\n"
     ]
    },
    {
     "name": "stderr",
     "output_type": "stream",
     "text": [
      "                                                             "
     ]
    },
    {
     "name": "stdout",
     "output_type": "stream",
     "text": [
      "Moviepy - Done !\n",
      "Moviepy - video ready c:\\Users\\lucas\\BCC\\highway-env\\output\\testing\\dqn\\dqn-episode-6.mp4\n"
     ]
    },
    {
     "name": "stderr",
     "output_type": "stream",
     "text": [
      "\r"
     ]
    },
    {
     "name": "stdout",
     "output_type": "stream",
     "text": [
      "Moviepy - Building video c:\\Users\\lucas\\BCC\\highway-env\\output\\testing\\dqn\\dqn-episode-7.mp4.\n",
      "Moviepy - Writing video c:\\Users\\lucas\\BCC\\highway-env\\output\\testing\\dqn\\dqn-episode-7.mp4\n",
      "\n"
     ]
    },
    {
     "name": "stderr",
     "output_type": "stream",
     "text": [
      "                                                             "
     ]
    },
    {
     "name": "stdout",
     "output_type": "stream",
     "text": [
      "Moviepy - Done !"
     ]
    },
    {
     "name": "stderr",
     "output_type": "stream",
     "text": [
      "\r"
     ]
    },
    {
     "name": "stdout",
     "output_type": "stream",
     "text": [
      "\n",
      "Moviepy - video ready c:\\Users\\lucas\\BCC\\highway-env\\output\\testing\\dqn\\dqn-episode-7.mp4\n",
      "Moviepy - Building video c:\\Users\\lucas\\BCC\\highway-env\\output\\testing\\dqn\\dqn-episode-8.mp4.\n",
      "Moviepy - Writing video c:\\Users\\lucas\\BCC\\highway-env\\output\\testing\\dqn\\dqn-episode-8.mp4\n",
      "\n"
     ]
    },
    {
     "name": "stderr",
     "output_type": "stream",
     "text": [
      "                                                               \r"
     ]
    },
    {
     "name": "stdout",
     "output_type": "stream",
     "text": [
      "Moviepy - Done !\n",
      "Moviepy - video ready c:\\Users\\lucas\\BCC\\highway-env\\output\\testing\\dqn\\dqn-episode-8.mp4\n",
      "Moviepy - Building video c:\\Users\\lucas\\BCC\\highway-env\\output\\testing\\dqn\\dqn-episode-9.mp4.\n",
      "Moviepy - Writing video c:\\Users\\lucas\\BCC\\highway-env\\output\\testing\\dqn\\dqn-episode-9.mp4\n",
      "\n"
     ]
    },
    {
     "name": "stderr",
     "output_type": "stream",
     "text": [
      "                                                             "
     ]
    },
    {
     "name": "stdout",
     "output_type": "stream",
     "text": [
      "Moviepy - Done !\n",
      "Moviepy - video ready c:\\Users\\lucas\\BCC\\highway-env\\output\\testing\\dqn\\dqn-episode-9.mp4\n"
     ]
    },
    {
     "name": "stderr",
     "output_type": "stream",
     "text": [
      "\r"
     ]
    },
    {
     "name": "stdout",
     "output_type": "stream",
     "text": [
      "Moviepy - Building video c:\\Users\\lucas\\BCC\\highway-env\\output\\testing\\dqn\\dqn-episode-10.mp4.\n",
      "Moviepy - Writing video c:\\Users\\lucas\\BCC\\highway-env\\output\\testing\\dqn\\dqn-episode-10.mp4\n",
      "\n"
     ]
    },
    {
     "name": "stderr",
     "output_type": "stream",
     "text": [
      "                                                  "
     ]
    },
    {
     "name": "stdout",
     "output_type": "stream",
     "text": [
      "Moviepy - Done !\n",
      "Moviepy - video ready c:\\Users\\lucas\\BCC\\highway-env\\output\\testing\\dqn\\dqn-episode-10.mp4\n"
     ]
    },
    {
     "name": "stderr",
     "output_type": "stream",
     "text": [
      "\r"
     ]
    }
   ],
   "source": [
    "episodes = 10\n",
    "model = DQN.load(\"./model/dqn/model.zip\")\n",
    "model.exploration_fraction = 0.0\n",
    "model.exploration_initial_eps = 0.0\n",
    "model.exploration_final_eps = 0.0\n",
    "\n",
    "while episodes > 0:\n",
    "    action, _ = model.predict(obs)\n",
    "    obs, reward, terminated, truncated, info = env.step(action)\n",
    "\n",
    "    if terminated or truncated:\n",
    "        episodes -= 1\n",
    "        env.reset()\n",
    "\n",
    "env.close()\n"
   ]
  },
  {
   "cell_type": "markdown",
   "metadata": {},
   "source": [
    "# PPO"
   ]
  },
  {
   "cell_type": "code",
   "execution_count": 7,
   "metadata": {},
   "outputs": [
    {
     "name": "stderr",
     "output_type": "stream",
     "text": [
      "c:\\Users\\lucas\\BCC\\highway-env\\.venv\\lib\\site-packages\\gymnasium\\wrappers\\record_video.py:94: UserWarning: \u001b[33mWARN: Overwriting existing videos at c:\\Users\\lucas\\BCC\\highway-env\\output\\testing\\ppo folder (try specifying a different `video_folder` for the `RecordVideo` wrapper if this is not desired)\u001b[0m\n",
      "  logger.warn(\n"
     ]
    }
   ],
   "source": [
    "env = defaultEnvironment(\"./output/testing/ppo\", \"ppo\", video_episode_trigger=lambda e: True)\n",
    "obs, info = env.reset()"
   ]
  },
  {
   "cell_type": "code",
   "execution_count": 8,
   "metadata": {},
   "outputs": [
    {
     "name": "stdout",
     "output_type": "stream",
     "text": [
      "Moviepy - Building video c:\\Users\\lucas\\BCC\\highway-env\\output\\testing\\ppo\\ppo-episode-0.mp4.\n",
      "Moviepy - Writing video c:\\Users\\lucas\\BCC\\highway-env\\output\\testing\\ppo\\ppo-episode-0.mp4\n",
      "\n"
     ]
    },
    {
     "name": "stderr",
     "output_type": "stream",
     "text": [
      "                                                               \r"
     ]
    },
    {
     "name": "stdout",
     "output_type": "stream",
     "text": [
      "Moviepy - Done !\n",
      "Moviepy - video ready c:\\Users\\lucas\\BCC\\highway-env\\output\\testing\\ppo\\ppo-episode-0.mp4\n",
      "Moviepy - Building video c:\\Users\\lucas\\BCC\\highway-env\\output\\testing\\ppo\\ppo-episode-1.mp4.\n",
      "Moviepy - Writing video c:\\Users\\lucas\\BCC\\highway-env\\output\\testing\\ppo\\ppo-episode-1.mp4\n",
      "\n"
     ]
    },
    {
     "name": "stderr",
     "output_type": "stream",
     "text": [
      "                                                               \r"
     ]
    },
    {
     "name": "stdout",
     "output_type": "stream",
     "text": [
      "Moviepy - Done !\n",
      "Moviepy - video ready c:\\Users\\lucas\\BCC\\highway-env\\output\\testing\\ppo\\ppo-episode-1.mp4\n",
      "Moviepy - Building video c:\\Users\\lucas\\BCC\\highway-env\\output\\testing\\ppo\\ppo-episode-2.mp4.\n",
      "Moviepy - Writing video c:\\Users\\lucas\\BCC\\highway-env\\output\\testing\\ppo\\ppo-episode-2.mp4\n",
      "\n"
     ]
    },
    {
     "name": "stderr",
     "output_type": "stream",
     "text": [
      "                                                               \r"
     ]
    },
    {
     "name": "stdout",
     "output_type": "stream",
     "text": [
      "Moviepy - Done !\n",
      "Moviepy - video ready c:\\Users\\lucas\\BCC\\highway-env\\output\\testing\\ppo\\ppo-episode-2.mp4\n",
      "Moviepy - Building video c:\\Users\\lucas\\BCC\\highway-env\\output\\testing\\ppo\\ppo-episode-3.mp4.\n",
      "Moviepy - Writing video c:\\Users\\lucas\\BCC\\highway-env\\output\\testing\\ppo\\ppo-episode-3.mp4\n",
      "\n"
     ]
    },
    {
     "name": "stderr",
     "output_type": "stream",
     "text": [
      "                                                               \r"
     ]
    },
    {
     "name": "stdout",
     "output_type": "stream",
     "text": [
      "Moviepy - Done !\n",
      "Moviepy - video ready c:\\Users\\lucas\\BCC\\highway-env\\output\\testing\\ppo\\ppo-episode-3.mp4\n",
      "Moviepy - Building video c:\\Users\\lucas\\BCC\\highway-env\\output\\testing\\ppo\\ppo-episode-4.mp4.\n",
      "Moviepy - Writing video c:\\Users\\lucas\\BCC\\highway-env\\output\\testing\\ppo\\ppo-episode-4.mp4\n",
      "\n"
     ]
    },
    {
     "name": "stderr",
     "output_type": "stream",
     "text": [
      "                                                               \r"
     ]
    },
    {
     "name": "stdout",
     "output_type": "stream",
     "text": [
      "Moviepy - Done !\n",
      "Moviepy - video ready c:\\Users\\lucas\\BCC\\highway-env\\output\\testing\\ppo\\ppo-episode-4.mp4\n",
      "Moviepy - Building video c:\\Users\\lucas\\BCC\\highway-env\\output\\testing\\ppo\\ppo-episode-5.mp4.\n",
      "Moviepy - Writing video c:\\Users\\lucas\\BCC\\highway-env\\output\\testing\\ppo\\ppo-episode-5.mp4\n",
      "\n"
     ]
    },
    {
     "name": "stderr",
     "output_type": "stream",
     "text": [
      "                                                               \r"
     ]
    },
    {
     "name": "stdout",
     "output_type": "stream",
     "text": [
      "Moviepy - Done !\n",
      "Moviepy - video ready c:\\Users\\lucas\\BCC\\highway-env\\output\\testing\\ppo\\ppo-episode-5.mp4\n",
      "Moviepy - Building video c:\\Users\\lucas\\BCC\\highway-env\\output\\testing\\ppo\\ppo-episode-6.mp4.\n",
      "Moviepy - Writing video c:\\Users\\lucas\\BCC\\highway-env\\output\\testing\\ppo\\ppo-episode-6.mp4\n",
      "\n"
     ]
    },
    {
     "name": "stderr",
     "output_type": "stream",
     "text": [
      "                                                               \r"
     ]
    },
    {
     "name": "stdout",
     "output_type": "stream",
     "text": [
      "Moviepy - Done !\n",
      "Moviepy - video ready c:\\Users\\lucas\\BCC\\highway-env\\output\\testing\\ppo\\ppo-episode-6.mp4\n",
      "Moviepy - Building video c:\\Users\\lucas\\BCC\\highway-env\\output\\testing\\ppo\\ppo-episode-7.mp4.\n",
      "Moviepy - Writing video c:\\Users\\lucas\\BCC\\highway-env\\output\\testing\\ppo\\ppo-episode-7.mp4\n",
      "\n"
     ]
    },
    {
     "name": "stderr",
     "output_type": "stream",
     "text": [
      "                                                               \r"
     ]
    },
    {
     "name": "stdout",
     "output_type": "stream",
     "text": [
      "Moviepy - Done !\n",
      "Moviepy - video ready c:\\Users\\lucas\\BCC\\highway-env\\output\\testing\\ppo\\ppo-episode-7.mp4\n",
      "Moviepy - Building video c:\\Users\\lucas\\BCC\\highway-env\\output\\testing\\ppo\\ppo-episode-8.mp4.\n",
      "Moviepy - Writing video c:\\Users\\lucas\\BCC\\highway-env\\output\\testing\\ppo\\ppo-episode-8.mp4\n",
      "\n"
     ]
    },
    {
     "name": "stderr",
     "output_type": "stream",
     "text": [
      "                                                               \r"
     ]
    },
    {
     "name": "stdout",
     "output_type": "stream",
     "text": [
      "Moviepy - Done !\n",
      "Moviepy - video ready c:\\Users\\lucas\\BCC\\highway-env\\output\\testing\\ppo\\ppo-episode-8.mp4\n",
      "Moviepy - Building video c:\\Users\\lucas\\BCC\\highway-env\\output\\testing\\ppo\\ppo-episode-9.mp4.\n",
      "Moviepy - Writing video c:\\Users\\lucas\\BCC\\highway-env\\output\\testing\\ppo\\ppo-episode-9.mp4\n",
      "\n"
     ]
    },
    {
     "name": "stderr",
     "output_type": "stream",
     "text": [
      "                                                               \r"
     ]
    },
    {
     "name": "stdout",
     "output_type": "stream",
     "text": [
      "Moviepy - Done !\n",
      "Moviepy - video ready c:\\Users\\lucas\\BCC\\highway-env\\output\\testing\\ppo\\ppo-episode-9.mp4\n",
      "Moviepy - Building video c:\\Users\\lucas\\BCC\\highway-env\\output\\testing\\ppo\\ppo-episode-10.mp4.\n",
      "Moviepy - Writing video c:\\Users\\lucas\\BCC\\highway-env\\output\\testing\\ppo\\ppo-episode-10.mp4\n",
      "\n"
     ]
    },
    {
     "name": "stderr",
     "output_type": "stream",
     "text": [
      "                                                  "
     ]
    },
    {
     "name": "stdout",
     "output_type": "stream",
     "text": [
      "Moviepy - Done !\n",
      "Moviepy - video ready c:\\Users\\lucas\\BCC\\highway-env\\output\\testing\\ppo\\ppo-episode-10.mp4\n"
     ]
    },
    {
     "name": "stderr",
     "output_type": "stream",
     "text": [
      "\r"
     ]
    }
   ],
   "source": [
    "episodes = 10\n",
    "model = PPO.load(\"./model/ppo/model.zip\")\n",
    "\n",
    "while episodes > 0:\n",
    "    action, _ = model.predict(obs)\n",
    "    obs, reward, terminated, truncated, info = env.step(action)\n",
    "\n",
    "    if terminated or truncated:\n",
    "        episodes -= 1\n",
    "        env.reset()\n",
    "\n",
    "env.close()"
   ]
  }
 ],
 "metadata": {
  "kernelspec": {
   "display_name": ".venv",
   "language": "python",
   "name": "python3"
  },
  "language_info": {
   "codemirror_mode": {
    "name": "ipython",
    "version": 3
   },
   "file_extension": ".py",
   "mimetype": "text/x-python",
   "name": "python",
   "nbconvert_exporter": "python",
   "pygments_lexer": "ipython3",
   "version": "3.9.13"
  },
  "orig_nbformat": 4
 },
 "nbformat": 4,
 "nbformat_minor": 2
}
