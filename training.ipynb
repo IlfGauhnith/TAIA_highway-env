{
 "cells": [
  {
   "cell_type": "markdown",
   "metadata": {},
   "source": [
    "# SETUP"
   ]
  },
  {
   "cell_type": "markdown",
   "metadata": {},
   "source": [
    "## PIP"
   ]
  },
  {
   "cell_type": "code",
   "execution_count": null,
   "metadata": {},
   "outputs": [],
   "source": [
    "pip install -r requirements.txt"
   ]
  },
  {
   "cell_type": "code",
   "execution_count": null,
   "metadata": {},
   "outputs": [],
   "source": [
    "pip install --upgrade --force-reinstall torch --index-url https://download.pytorch.org/whl/cu118"
   ]
  },
  {
   "cell_type": "markdown",
   "metadata": {},
   "source": [
    "## Import"
   ]
  },
  {
   "cell_type": "code",
   "execution_count": null,
   "metadata": {},
   "outputs": [],
   "source": [
    "from custom_wrappers import FrameStack\n",
    "from util import defaultEnvironment, createModel\n",
    "from stable_baselines3.common.callbacks import CheckpointCallback\n",
    "\n",
    "import sys\n",
    "import os\n",
    "import pygame"
   ]
  },
  {
   "cell_type": "markdown",
   "metadata": {},
   "source": [
    "# DQN"
   ]
  },
  {
   "cell_type": "code",
   "execution_count": null,
   "metadata": {},
   "outputs": [],
   "source": [
    "env = defaultEnvironment(video_save_path=\"./output/training/dqn\", \n",
    "    video_file_prefix=\"dqn\", \n",
    "    episode_statistics_save_path=\"./model/dqn/statistics\", \n",
    "    episode_statistics_file_prefix=\"dqn\")\n",
    "env.reset()\n",
    "\n",
    "print(env.observation_space)\n",
    "print(env.action_space)"
   ]
  },
  {
   "cell_type": "code",
   "execution_count": null,
   "metadata": {},
   "outputs": [],
   "source": [
    "model = createModel(env, checkpoint_load_path=\"./model/dqn/checkpoint\", checkpoint_file_prefix=\"dqn\")\n",
    "\n",
    "checkpoint_callback = CheckpointCallback(save_freq=1_000, save_path=\"./model/dqn/checkpoint/\", name_prefix=\"dqn\")\n",
    "model = model.learn(total_timesteps=(100), log_interval=10, reset_num_timesteps=False, callback=checkpoint_callback)\n",
    "model.save(\"./model/dqn/model\")"
   ]
  },
  {
   "cell_type": "markdown",
   "metadata": {},
   "source": [
    "# PPO\n"
   ]
  },
  {
   "cell_type": "code",
   "execution_count": null,
   "metadata": {},
   "outputs": [],
   "source": [
    "env = defaultEnvironment(video_save_path=\"./output/training/ppo\", \n",
    "    video_file_prefix=\"ppo\", \n",
    "    episode_statistics_save_path=\"./model/ppo/statistics\", \n",
    "    episode_statistics_file_prefix=\"ppo\")\n",
    "env.reset()\n",
    "\n",
    "print(env.observation_space)\n",
    "print(env.action_space)"
   ]
  },
  {
   "cell_type": "code",
   "execution_count": null,
   "metadata": {},
   "outputs": [],
   "source": [
    "model = createModel(env, model_algorithm=\"ppo\", tensorboard_log_path=\"./model/ppo/tensorboard\", checkpoint_load_path=\"./model/ppo/checkpoint\", checkpoint_file_prefix=\"ppo\")\n",
    "\n",
    "checkpoint_callback = CheckpointCallback(save_freq=1_000, save_path=\"./model/ppo/checkpoint/\", name_prefix=\"ppo\")\n",
    "model = model.learn(total_timesteps=(1_000_000), log_interval=10, reset_num_timesteps=False, callback=checkpoint_callback)\n",
    "model.save(\"./model/ppo/model\")"
   ]
  }
 ],
 "metadata": {
  "kernelspec": {
   "display_name": "Python 3",
   "language": "python",
   "name": "python3"
  },
  "language_info": {
   "codemirror_mode": {
    "name": "ipython",
    "version": 3
   },
   "file_extension": ".py",
   "mimetype": "text/x-python",
   "name": "python",
   "nbconvert_exporter": "python",
   "pygments_lexer": "ipython3",
   "version": "3.9.13"
  },
  "orig_nbformat": 4
 },
 "nbformat": 4,
 "nbformat_minor": 2
}
